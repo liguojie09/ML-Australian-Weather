{
 "cells": [
  {
   "cell_type": "markdown",
   "metadata": {},
   "source": [
    "# Assignment2"
   ]
  },
  {
   "cell_type": "markdown",
   "metadata": {},
   "source": [
    "## A. Creating Spark Session and Loading the Data"
   ]
  },
  {
   "cell_type": "markdown",
   "metadata": {},
   "source": [
    "### Step 01: Import pyspark and initialize Spark"
   ]
  },
  {
   "cell_type": "code",
   "execution_count": 1,
   "metadata": {},
   "outputs": [],
   "source": [
    "# if you dont have pyspark on your own laptop, please pip it to install\n",
    "# !pip install pyspark\n",
    "\n",
    "import os\n",
    "os.environ['PYSPARK_SUBMIT_ARGS'] = '--packages org.mongodb.spark:mongo-spark-connector_2.11:2.4.0 pyspark-shell'\n",
    "#import SparkContext, SparkConf, and SparkSession\n",
    "from pyspark import SparkContext, SparkConf \n",
    "from pyspark.sql import SparkSession\n",
    "\n",
    "# Create or get an SparkContext\n",
    "sc = SparkContext.getOrCreate()\n",
    "\n",
    "# If there is no existing spark context, we now create a new context, I decide to use 3 cores\n",
    "if (sc is None):\n",
    "    sc = SparkContext(master=\"local[4]\", appName=\"FIT5202 Assignment2\")\n",
    "\n",
    "spark = SparkSession(sparkContext=sc)\\\n",
    "        .builder\\\n",
    "        .appName(\"FIT5202 Assignment2\")\\\n",
    "        .config(\"spark.jars.packages\", \"org.mongodb.spark:mongo-spark-connector_2.11:2.4.0\")\\\n",
    "        .config(\"spark.mongodb.input.uri\", \"mongodb://127.0.0.1/fit5202_assignment2\")\\\n",
    "        .config(\"spark.mongodb.output.uri\", \"mongodb://127.0.0.1/fit5202_assignment2\")\\\n",
    "        .getOrCreate()"
   ]
  },
  {
   "cell_type": "markdown",
   "metadata": {},
   "source": [
    "### Step 02: Load the dataset and print the schema and total number of entries"
   ]
  },
  {
   "cell_type": "code",
   "execution_count": 2,
   "metadata": {},
   "outputs": [
    {
     "name": "stdout",
     "output_type": "stream",
     "text": [
      "The number of records of  Australian weather is: 142193\n",
      " \n",
      "The Schema of Australian weather data frame is presented below:\n",
      "root\n",
      " |-- Date: timestamp (nullable = true)\n",
      " |-- Location: string (nullable = true)\n",
      " |-- MinTemp: string (nullable = true)\n",
      " |-- MaxTemp: string (nullable = true)\n",
      " |-- Rainfall: string (nullable = true)\n",
      " |-- Evaporation: string (nullable = true)\n",
      " |-- Sunshine: string (nullable = true)\n",
      " |-- WindGustDir: string (nullable = true)\n",
      " |-- WindGustSpeed: string (nullable = true)\n",
      " |-- WindDir9am: string (nullable = true)\n",
      " |-- WindDir3pm: string (nullable = true)\n",
      " |-- WindSpeed9am: string (nullable = true)\n",
      " |-- WindSpeed3pm: string (nullable = true)\n",
      " |-- Humidity9am: string (nullable = true)\n",
      " |-- Humidity3pm: string (nullable = true)\n",
      " |-- Pressure9am: string (nullable = true)\n",
      " |-- Pressure3pm: string (nullable = true)\n",
      " |-- Cloud9am: string (nullable = true)\n",
      " |-- Cloud3pm: string (nullable = true)\n",
      " |-- Temp9am: string (nullable = true)\n",
      " |-- Temp3pm: string (nullable = true)\n",
      " |-- RainToday: string (nullable = true)\n",
      " |-- RainTomorrow: string (nullable = true)\n",
      "\n"
     ]
    },
    {
     "data": {
      "text/plain": [
       "[Row(Date=datetime.datetime(2008, 12, 1, 0, 0), Location='Albury', MinTemp='13.4', MaxTemp='22.9', Rainfall='0.6', Evaporation='NA', Sunshine='NA', WindGustDir='W', WindGustSpeed='44', WindDir9am='W', WindDir3pm='WNW', WindSpeed9am='20', WindSpeed3pm='24', Humidity9am='71', Humidity3pm='22', Pressure9am='1007.7', Pressure3pm='1007.1', Cloud9am='8', Cloud3pm='NA', Temp9am='16.9', Temp3pm='21.8', RainToday='No', RainTomorrow='No'),\n",
       " Row(Date=datetime.datetime(2008, 12, 2, 0, 0), Location='Albury', MinTemp='7.4', MaxTemp='25.1', Rainfall='0', Evaporation='NA', Sunshine='NA', WindGustDir='WNW', WindGustSpeed='44', WindDir9am='NNW', WindDir3pm='WSW', WindSpeed9am='4', WindSpeed3pm='22', Humidity9am='44', Humidity3pm='25', Pressure9am='1010.6', Pressure3pm='1007.8', Cloud9am='NA', Cloud3pm='NA', Temp9am='17.2', Temp3pm='24.3', RainToday='No', RainTomorrow='No'),\n",
       " Row(Date=datetime.datetime(2008, 12, 3, 0, 0), Location='Albury', MinTemp='12.9', MaxTemp='25.7', Rainfall='0', Evaporation='NA', Sunshine='NA', WindGustDir='WSW', WindGustSpeed='46', WindDir9am='W', WindDir3pm='WSW', WindSpeed9am='19', WindSpeed3pm='26', Humidity9am='38', Humidity3pm='30', Pressure9am='1007.6', Pressure3pm='1008.7', Cloud9am='NA', Cloud3pm='2', Temp9am='21', Temp3pm='23.2', RainToday='No', RainTomorrow='No'),\n",
       " Row(Date=datetime.datetime(2008, 12, 4, 0, 0), Location='Albury', MinTemp='9.2', MaxTemp='28', Rainfall='0', Evaporation='NA', Sunshine='NA', WindGustDir='NE', WindGustSpeed='24', WindDir9am='SE', WindDir3pm='E', WindSpeed9am='11', WindSpeed3pm='9', Humidity9am='45', Humidity3pm='16', Pressure9am='1017.6', Pressure3pm='1012.8', Cloud9am='NA', Cloud3pm='NA', Temp9am='18.1', Temp3pm='26.5', RainToday='No', RainTomorrow='No'),\n",
       " Row(Date=datetime.datetime(2008, 12, 5, 0, 0), Location='Albury', MinTemp='17.5', MaxTemp='32.3', Rainfall='1', Evaporation='NA', Sunshine='NA', WindGustDir='W', WindGustSpeed='41', WindDir9am='ENE', WindDir3pm='NW', WindSpeed9am='7', WindSpeed3pm='20', Humidity9am='82', Humidity3pm='33', Pressure9am='1010.8', Pressure3pm='1006', Cloud9am='7', Cloud3pm='8', Temp9am='17.8', Temp3pm='29.7', RainToday='No', RainTomorrow='No')]"
      ]
     },
     "execution_count": 2,
     "metadata": {},
     "output_type": "execute_result"
    }
   ],
   "source": [
    "# Create dataframe of Australian Weather\n",
    "# Please change the file path when you run this function\n",
    "au_weather = spark.read.csv('/Users/guojie/Desktop/FIT5202/Assignment2/weatherAUS.csv',\\\n",
    "                          header=True, inferSchema=True)\n",
    "total_number = au_weather.count()\n",
    "print(\"The number of records of  Australian weather is: \" + str(total_number))\n",
    "print(\" \")\n",
    "print(\"The Schema of Australian weather data frame is presented below:\")\n",
    "au_weather.printSchema()\n",
    "au_weather.take(5)"
   ]
  },
  {
   "cell_type": "markdown",
   "metadata": {},
   "source": [
    "## B. Data Cleaning and Processing"
   ]
  },
  {
   "cell_type": "markdown",
   "metadata": {},
   "source": [
    "### Step 03: Delete columns from the dataset"
   ]
  },
  {
   "cell_type": "code",
   "execution_count": 3,
   "metadata": {},
   "outputs": [
    {
     "name": "stdout",
     "output_type": "stream",
     "text": [
      "The Schema of new data frame is presented below:\n",
      "root\n",
      " |-- MinTemp: string (nullable = true)\n",
      " |-- MaxTemp: string (nullable = true)\n",
      " |-- Rainfall: string (nullable = true)\n",
      " |-- WindGustDir: string (nullable = true)\n",
      " |-- WindGustSpeed: string (nullable = true)\n",
      " |-- WindDir9am: string (nullable = true)\n",
      " |-- WindDir3pm: string (nullable = true)\n",
      " |-- WindSpeed9am: string (nullable = true)\n",
      " |-- WindSpeed3pm: string (nullable = true)\n",
      " |-- Humidity9am: string (nullable = true)\n",
      " |-- Humidity3pm: string (nullable = true)\n",
      " |-- Pressure9am: string (nullable = true)\n",
      " |-- Pressure3pm: string (nullable = true)\n",
      " |-- RainToday: string (nullable = true)\n",
      " |-- RainTomorrow: string (nullable = true)\n",
      "\n",
      "The top five records of new data frame is presented below:\n",
      "+-------+-------+--------+-----------+-------------+----------+----------+------------+------------+-----------+-----------+-----------+-----------+---------+------------+\n",
      "|MinTemp|MaxTemp|Rainfall|WindGustDir|WindGustSpeed|WindDir9am|WindDir3pm|WindSpeed9am|WindSpeed3pm|Humidity9am|Humidity3pm|Pressure9am|Pressure3pm|RainToday|RainTomorrow|\n",
      "+-------+-------+--------+-----------+-------------+----------+----------+------------+------------+-----------+-----------+-----------+-----------+---------+------------+\n",
      "|   13.4|   22.9|     0.6|          W|           44|         W|       WNW|          20|          24|         71|         22|     1007.7|     1007.1|       No|          No|\n",
      "|    7.4|   25.1|       0|        WNW|           44|       NNW|       WSW|           4|          22|         44|         25|     1010.6|     1007.8|       No|          No|\n",
      "|   12.9|   25.7|       0|        WSW|           46|         W|       WSW|          19|          26|         38|         30|     1007.6|     1008.7|       No|          No|\n",
      "|    9.2|     28|       0|         NE|           24|        SE|         E|          11|           9|         45|         16|     1017.6|     1012.8|       No|          No|\n",
      "|   17.5|   32.3|       1|          W|           41|       ENE|        NW|           7|          20|         82|         33|     1010.8|       1006|       No|          No|\n",
      "|   14.6|   29.7|     0.2|        WNW|           56|         W|         W|          19|          24|         55|         23|     1009.2|     1005.4|       No|          No|\n",
      "|   14.3|     25|       0|          W|           50|        SW|         W|          20|          24|         49|         19|     1009.6|     1008.2|       No|          No|\n",
      "|    7.7|   26.7|       0|          W|           35|       SSE|         W|           6|          17|         48|         19|     1013.4|     1010.1|       No|          No|\n",
      "|    9.7|   31.9|       0|        NNW|           80|        SE|        NW|           7|          28|         42|          9|     1008.9|     1003.6|       No|         Yes|\n",
      "|   13.1|   30.1|     1.4|          W|           28|         S|       SSE|          15|          11|         58|         27|       1007|     1005.7|      Yes|          No|\n",
      "|   13.4|   30.4|       0|          N|           30|       SSE|       ESE|          17|           6|         48|         22|     1011.8|     1008.7|       No|         Yes|\n",
      "|   15.9|   21.7|     2.2|        NNE|           31|        NE|       ENE|          15|          13|         89|         91|     1010.5|     1004.2|      Yes|         Yes|\n",
      "|   15.9|   18.6|    15.6|          W|           61|       NNW|       NNW|          28|          28|         76|         93|      994.3|        993|      Yes|         Yes|\n",
      "|   12.6|     21|     3.6|         SW|           44|         W|       SSW|          24|          20|         65|         43|     1001.2|     1001.8|      Yes|          No|\n",
      "|    9.8|   27.7|      NA|        WNW|           50|        NA|       WNW|          NA|          22|         50|         28|     1013.4|     1010.3|       NA|          No|\n",
      "|   14.1|   20.9|       0|        ENE|           22|       SSW|         E|          11|           9|         69|         82|     1012.2|     1010.4|       No|         Yes|\n",
      "|   13.5|   22.9|    16.8|          W|           63|         N|       WNW|           6|          20|         80|         65|     1005.8|     1002.2|      Yes|         Yes|\n",
      "|   11.2|   22.5|    10.6|        SSE|           43|       WSW|        SW|          24|          17|         47|         32|     1009.4|     1009.7|      Yes|          No|\n",
      "|    9.8|   25.6|       0|        SSE|           26|        SE|       NNW|          17|           6|         45|         26|     1019.2|     1017.1|       No|          No|\n",
      "|   11.5|   29.3|       0|          S|           24|        SE|        SE|           9|           9|         56|         28|     1019.3|     1014.8|       No|          No|\n",
      "+-------+-------+--------+-----------+-------------+----------+----------+------------+------------+-----------+-----------+-----------+-----------+---------+------------+\n",
      "only showing top 20 rows\n",
      "\n"
     ]
    }
   ],
   "source": [
    "# Delete useless data\n",
    "# A drop list of useless data \n",
    "drop_list = ['Date', 'Location', 'Evaporation', 'Sunshine', 'Cloud9am', 'Cloud3pm', 'Temp9am','Temp3pm'] \n",
    "new_au_weather = au_weather.select([column for column in au_weather.columns if column not in drop_list]) # delte the dta\n",
    "print(\"The Schema of new data frame is presented below:\")\n",
    "new_au_weather.printSchema()\n",
    "print(\"The top five records of new data frame is presented below:\")\n",
    "new_au_weather.show()"
   ]
  },
  {
   "cell_type": "markdown",
   "metadata": {},
   "source": [
    "### Step 04: Print the number of missing data in each column"
   ]
  },
  {
   "cell_type": "code",
   "execution_count": 4,
   "metadata": {},
   "outputs": [
    {
     "name": "stdout",
     "output_type": "stream",
     "text": [
      "The number of mission data in MinTemp column is: 637\n",
      "The number of mission data in MaxTemp column is: 322\n",
      "The number of mission data in Rainfall column is: 1406\n",
      "The number of mission data in WindGustDir column is: 9330\n",
      "The number of mission data in WindGustSpeed column is: 9270\n",
      "The number of mission data in WindDir9am column is: 10013\n",
      "The number of mission data in WindDir3pm column is: 3778\n",
      "The number of mission data in WindSpeed9am column is: 1348\n",
      "The number of mission data in WindSpeed3pm column is: 2630\n",
      "The number of mission data in Humidity9am column is: 1774\n",
      "The number of mission data in Humidity3pm column is: 3610\n",
      "The number of mission data in Pressure9am column is: 14014\n",
      "The number of mission data in Pressure3pm column is: 13981\n",
      "The number of mission data in RainToday column is: 1406\n",
      "The number of mission data in RainTomorrow column is: 0\n"
     ]
    }
   ],
   "source": [
    "def calculate_number_of_missing_data(column_name):\n",
    "    \"\"\"\n",
    "    Calculate and print the missing data in each column of Australia Weather DataFrame\n",
    "\n",
    "    Args:\n",
    "        Name of each column\n",
    "\n",
    "    Returns:\n",
    "        Void \n",
    "\n",
    "    \"\"\"\n",
    "    na_information = new_au_weather.filter(new_au_weather[column_name] =='NA') # filter the column equals to ''NA\"\n",
    "    print(\"The number of mission data in \" + column_name +\" column is: \" + str(na_information.count())) # print the result \n",
    "\n",
    "for name in new_au_weather.columns:  # for each columns, use the function\n",
    "    calculate_number_of_missing_data(name)"
   ]
  },
  {
   "cell_type": "markdown",
   "metadata": {},
   "source": [
    "### Step 05: Fill the missing data with average value and maximum occurrence value"
   ]
  },
  {
   "cell_type": "code",
   "execution_count": 5,
   "metadata": {},
   "outputs": [
    {
     "name": "stdout",
     "output_type": "stream",
     "text": [
      "+-------+-------+--------+-----------+-------------+----------+----------+------------+------------+-----------+-----------+-----------+-----------+---------+------------+\n",
      "|MinTemp|MaxTemp|Rainfall|WindGustDir|WindGustSpeed|WindDir9am|WindDir3pm|WindSpeed9am|WindSpeed3pm|Humidity9am|Humidity3pm|Pressure9am|Pressure3pm|RainToday|RainTomorrow|\n",
      "+-------+-------+--------+-----------+-------------+----------+----------+------------+------------+-----------+-----------+-----------+-----------+---------+------------+\n",
      "|   13.4|   22.9|     0.6|          W|           44|         W|       WNW|          20|          24|         71|         22|     1007.7|     1007.1|       No|          No|\n",
      "|    7.4|   25.1|       0|        WNW|           44|       NNW|       WSW|           4|          22|         44|         25|     1010.6|     1007.8|       No|          No|\n",
      "|   12.9|   25.7|       0|        WSW|           46|         W|       WSW|          19|          26|         38|         30|     1007.6|     1008.7|       No|          No|\n",
      "|    9.2|     28|       0|         NE|           24|        SE|         E|          11|           9|         45|         16|     1017.6|     1012.8|       No|          No|\n",
      "|   17.5|   32.3|       1|          W|           41|       ENE|        NW|           7|          20|         82|         33|     1010.8|       1006|       No|          No|\n",
      "|   14.6|   29.7|     0.2|        WNW|           56|         W|         W|          19|          24|         55|         23|     1009.2|     1005.4|       No|          No|\n",
      "|   14.3|     25|       0|          W|           50|        SW|         W|          20|          24|         49|         19|     1009.6|     1008.2|       No|          No|\n",
      "|    7.7|   26.7|       0|          W|           35|       SSE|         W|           6|          17|         48|         19|     1013.4|     1010.1|       No|          No|\n",
      "|    9.7|   31.9|       0|        NNW|           80|        SE|        NW|           7|          28|         42|          9|     1008.9|     1003.6|       No|         Yes|\n",
      "|   13.1|   30.1|     1.4|          W|           28|         S|       SSE|          15|          11|         58|         27|       1007|     1005.7|      Yes|          No|\n",
      "|   13.4|   30.4|       0|          N|           30|       SSE|       ESE|          17|           6|         48|         22|     1011.8|     1008.7|       No|         Yes|\n",
      "|   15.9|   21.7|     2.2|        NNE|           31|        NE|       ENE|          15|          13|         89|         91|     1010.5|     1004.2|      Yes|         Yes|\n",
      "|   15.9|   18.6|    15.6|          W|           61|       NNW|       NNW|          28|          28|         76|         93|      994.3|        993|      Yes|         Yes|\n",
      "|   12.6|     21|     3.6|         SW|           44|         W|       SSW|          24|          20|         65|         43|     1001.2|     1001.8|      Yes|          No|\n",
      "|    9.8|   27.7|     2.3|        WNW|           50|       SSE|       WNW|        14.0|          22|         50|         28|     1013.4|     1010.3|       No|          No|\n",
      "|   14.1|   20.9|       0|        ENE|           22|       SSW|         E|          11|           9|         69|         82|     1012.2|     1010.4|       No|         Yes|\n",
      "|   13.5|   22.9|    16.8|          W|           63|         N|       WNW|           6|          20|         80|         65|     1005.8|     1002.2|      Yes|         Yes|\n",
      "|   11.2|   22.5|    10.6|        SSE|           43|       WSW|        SW|          24|          17|         47|         32|     1009.4|     1009.7|      Yes|          No|\n",
      "|    9.8|   25.6|       0|        SSE|           26|        SE|       NNW|          17|           6|         45|         26|     1019.2|     1017.1|       No|          No|\n",
      "|   11.5|   29.3|       0|          S|           24|        SE|        SE|           9|           9|         56|         28|     1019.3|     1014.8|       No|          No|\n",
      "+-------+-------+--------+-----------+-------------+----------+----------+------------+------------+-----------+-----------+-----------+-----------+---------+------------+\n",
      "only showing top 20 rows\n",
      "\n"
     ]
    }
   ],
   "source": [
    "# import udf \n",
    "from pyspark.sql.functions import udf, col\n",
    "# import type\n",
    "from pyspark.sql.types import DoubleType\n",
    "from pyspark.sql import functions as F\n",
    "\n",
    "non_numeric_list = ['WindGustDir','WindDir9am','WindDir3pm','RainToday','RainTomorrow'] # the list of non numeric \n",
    "\n",
    "def change_type(data_str):\n",
    "    \"\"\"\n",
    "    Change the String type to float type\n",
    "\n",
    "    Args:\n",
    "        String of data\n",
    "\n",
    "    Returns:\n",
    "        float\n",
    "\n",
    "    \"\"\"\n",
    "    return float(data_str)\n",
    "\n",
    "change_type_udfs = udf(change_type,returnType=DoubleType()) # change the data type of string to double to do the calculation\n",
    "\n",
    "\n",
    "def fill_missing_data(column_name,weather_df):\n",
    "    \"\"\"\n",
    "    fill missing data (num - average | string - most frequent item) in each column of Australia Weather DataFrame\n",
    "\n",
    "    Args:\n",
    "        Name of each column\n",
    "\n",
    "    Returns:\n",
    "        new dataframe\n",
    "\n",
    "    \"\"\"\n",
    "    if column_name in non_numeric_list: # if the column is non-numeric\n",
    "        non_na_weather =  weather_df.filter(weather_df[column_name] !='NA') # Filter null data and create a new dataframe\n",
    "        frequent_weather = non_na_weather.groupBy(column_name).count().collect() # group by the column name and get the list\n",
    "        item_list = [row[column_name] for row in frequent_weather] # the list of string name sort in Desc order\n",
    "        frequent_list = [row['count'] for row in frequent_weather] # frequent list of different items sort in Desc order\n",
    "        weather_df = weather_df.replace('NA',item_list[0],column_name) # replace the column from 'NA' to the most frequence item\n",
    "    else: # if the column is numeric \n",
    "        non_na_weather =  weather_df.filter(weather_df[column_name] !='NA') # Filter null data and create a new dataframe\n",
    "        new_df = non_na_weather.withColumn(column_name,change_type_udfs(column_name))  #chang the column from string to float\n",
    "        float_result_list = new_df.agg(F.mean(new_df[column_name])).collect() #use functions of mean to calculate mean value and get the list\n",
    "        float_result = round(float_result_list[0]['avg('+column_name+')'],1) #get the result and round it in 1, eg 14.0 \n",
    "        weather_df = weather_df.replace('NA',str(float_result),column_name) #replace the column from 'NA' to the average number of all non-null rows \n",
    "    return weather_df\n",
    " \n",
    "if __name__ == '__main__':\n",
    "    weather_df = new_au_weather #copy the new_au_weather to weather_df\n",
    "    for name in weather_df.columns:  # for each columns, use the function\n",
    "        weather_df = fill_missing_data(name,weather_df) \n",
    "    weather_df.show()"
   ]
  },
  {
   "cell_type": "code",
   "execution_count": 6,
   "metadata": {},
   "outputs": [
    {
     "name": "stdout",
     "output_type": "stream",
     "text": [
      "After step05, the number of mission data in MinTemp column is: 0\n",
      "After step05, the number of mission data in MaxTemp column is: 0\n",
      "After step05, the number of mission data in Rainfall column is: 0\n",
      "After step05, the number of mission data in WindGustDir column is: 0\n",
      "After step05, the number of mission data in WindGustSpeed column is: 0\n",
      "After step05, the number of mission data in WindDir9am column is: 0\n",
      "After step05, the number of mission data in WindDir3pm column is: 0\n",
      "After step05, the number of mission data in WindSpeed9am column is: 0\n",
      "After step05, the number of mission data in WindSpeed3pm column is: 0\n",
      "After step05, the number of mission data in Humidity9am column is: 0\n",
      "After step05, the number of mission data in Humidity3pm column is: 0\n",
      "After step05, the number of mission data in Pressure9am column is: 0\n",
      "After step05, the number of mission data in Pressure3pm column is: 0\n",
      "After step05, the number of mission data in RainToday column is: 0\n",
      "After step05, the number of mission data in RainTomorrow column is: 0\n"
     ]
    }
   ],
   "source": [
    "# check the result  of new dataframe after step05\n",
    "def calculate_number_of_missing_data_after_step5(column_name):\n",
    "    \"\"\"\n",
    "    Calculate and print the missing data in each column of Australia Weather DataFrame after step05 to have a check\n",
    "\n",
    "    Args:\n",
    "        Name of each column\n",
    "\n",
    "    Returns:\n",
    "        Void \n",
    "\n",
    "    \"\"\"\n",
    "    na_information = weather_df.filter(weather_df[column_name] =='NA') # filter the column equals to ''NA\"\n",
    "    print(\"After step05, the number of mission data in \" + column_name +\" column is: \" + str(na_information.count())) # print the result \n",
    "\n",
    "for name in weather_df.columns:  # for each columns, use the function\n",
    "    calculate_number_of_missing_data_after_step5(name)"
   ]
  },
  {
   "cell_type": "markdown",
   "metadata": {},
   "source": [
    "### Step 06: Data transformation"
   ]
  },
  {
   "cell_type": "code",
   "execution_count": 7,
   "metadata": {},
   "outputs": [
    {
     "name": "stdout",
     "output_type": "stream",
     "text": [
      "+-------+-------+--------+-------------+------------+------------+-----------+-----------+-----------+-----------+---------------+--------------+--------------+-------------+----------+\n",
      "|MinTemp|MaxTemp|Rainfall|WindGustSpeed|WindSpeed9am|WindSpeed3pm|Humidity9am|Humidity3pm|Pressure9am|Pressure3pm|New_WindGustDir|New_WindDir9am|New_WindDir3pm|New_RainToday|labelIndex|\n",
      "+-------+-------+--------+-------------+------------+------------+-----------+-----------+-----------+-----------+---------------+--------------+--------------+-------------+----------+\n",
      "|   13.4|   22.9|     0.6|         44.0|        20.0|        24.0|       71.0|       22.0|     1007.7|     1007.1|            1.0|           6.0|           7.0|          0.0|       0.0|\n",
      "|    7.4|   25.1|     0.0|         44.0|         4.0|        22.0|       44.0|       25.0|     1010.6|     1007.8|            9.0|           9.0|           4.0|          0.0|       0.0|\n",
      "|   12.9|   25.7|     0.0|         46.0|        19.0|        26.0|       38.0|       30.0|     1007.6|     1008.7|            6.0|           6.0|           4.0|          0.0|       0.0|\n",
      "+-------+-------+--------+-------------+------------+------------+-----------+-----------+-----------+-----------+---------------+--------------+--------------+-------------+----------+\n",
      "only showing top 3 rows\n",
      "\n",
      "root\n",
      " |-- MinTemp: double (nullable = true)\n",
      " |-- MaxTemp: double (nullable = true)\n",
      " |-- Rainfall: double (nullable = true)\n",
      " |-- WindGustSpeed: double (nullable = true)\n",
      " |-- WindSpeed9am: double (nullable = true)\n",
      " |-- WindSpeed3pm: double (nullable = true)\n",
      " |-- Humidity9am: double (nullable = true)\n",
      " |-- Humidity3pm: double (nullable = true)\n",
      " |-- Pressure9am: double (nullable = true)\n",
      " |-- Pressure3pm: double (nullable = true)\n",
      " |-- New_WindGustDir: double (nullable = false)\n",
      " |-- New_WindDir9am: double (nullable = false)\n",
      " |-- New_WindDir3pm: double (nullable = false)\n",
      " |-- New_RainToday: double (nullable = false)\n",
      " |-- labelIndex: double (nullable = false)\n",
      "\n"
     ]
    }
   ],
   "source": [
    "# import udf \n",
    "from pyspark.sql.functions import udf, col\n",
    "# import type\n",
    "from pyspark.sql.types import DoubleType\n",
    "from pyspark.sql import functions as F\n",
    "from pyspark.ml.linalg import Vectors\n",
    "from pyspark.ml.feature import VectorAssembler\n",
    "from pyspark.ml.feature import StringIndexer\n",
    "\n",
    "non_numeric_list = ['WindGustDir','WindDir9am','WindDir3pm','RainToday','RainTomorrow'] # the list of non numeric \n",
    "change_type_udfs = udf(change_type,returnType=DoubleType()) # change the data type of string to double to do the calculation\n",
    "\n",
    "def change_type(data_str):\n",
    "    \"\"\"\n",
    "    Change the String type to float type\n",
    "\n",
    "    Args:\n",
    "        String of data\n",
    "\n",
    "    Returns:\n",
    "        float\n",
    "\n",
    "    \"\"\"\n",
    "    return float(data_str)\n",
    "\n",
    "def data_transformation(column_name,double_weather_df):\n",
    "    \"\"\"\n",
    "    fill missing data (num - average | string - most frequent item) in each column of Australia Weather DataFrame\n",
    "\n",
    "    Args:\n",
    "        Name of each column\n",
    "\n",
    "    Returns:\n",
    "        new dataframe\n",
    "\n",
    "    \"\"\"\n",
    "    if column_name in non_numeric_list: # if the column is non-numeric\n",
    "        if column_name == 'RainTomorrow':\n",
    "            l_indexer = StringIndexer(inputCol=column_name, outputCol='labelIndex') \n",
    "            double_weather_df = l_indexer.fit(double_weather_df).transform(double_weather_df) #the column to new column of double\n",
    "        else:\n",
    "            l_indexer = StringIndexer(inputCol=column_name, outputCol='New_' + column_name)  #StringIndexer from string to double\n",
    "            double_weather_df = l_indexer.fit(double_weather_df).transform(double_weather_df) #the column to new column of double\n",
    "    else: # if the column is numeric \n",
    "        double_weather_df = double_weather_df.withColumn(column_name,change_type_udfs(column_name))  #chang the column from string to float\n",
    "    return double_weather_df\n",
    " \n",
    "if __name__ == '__main__':\n",
    "    double_weather_df = weather_df #copy the new_au_weather to weather_df\n",
    "    for name in double_weather_df.columns:  # for each columns, use the function\n",
    "        double_weather_df = data_transformation(name,double_weather_df) \n",
    "    for name in non_numeric_list: # for each privious column, drop it\n",
    "        double_weather_df = double_weather_df.drop(name)\n",
    "    double_weather_df.show(3)\n",
    "    double_weather_df.printSchema()"
   ]
  },
  {
   "cell_type": "markdown",
   "metadata": {},
   "source": [
    "### Step 07: Create the feature vector and divide the dataset"
   ]
  },
  {
   "cell_type": "code",
   "execution_count": 8,
   "metadata": {},
   "outputs": [
    {
     "name": "stdout",
     "output_type": "stream",
     "text": [
      "+----------+--------------------+\n",
      "|labelIndex|            features|\n",
      "+----------+--------------------+\n",
      "|       0.0|[13.4,22.9,0.6,44...|\n",
      "|       0.0|[7.4,25.1,0.0,44....|\n",
      "|       0.0|[12.9,25.7,0.0,46...|\n",
      "|       0.0|[9.2,28.0,0.0,24....|\n",
      "|       0.0|[17.5,32.3,1.0,41...|\n",
      "|       0.0|[14.6,29.7,0.2,56...|\n",
      "|       0.0|[14.3,25.0,0.0,50...|\n",
      "|       0.0|[7.7,26.7,0.0,35....|\n",
      "|       1.0|[9.7,31.9,0.0,80....|\n",
      "|       0.0|[13.1,30.1,1.4,28...|\n",
      "|       1.0|[13.4,30.4,0.0,30...|\n",
      "|       1.0|[15.9,21.7,2.2,31...|\n",
      "|       1.0|[15.9,18.6,15.6,6...|\n",
      "|       0.0|[12.6,21.0,3.6,44...|\n",
      "|       0.0|[9.8,27.7,2.3,50....|\n",
      "+----------+--------------------+\n",
      "only showing top 15 rows\n",
      "\n",
      "+----------+--------------------+\n",
      "|labelIndex|            features|\n",
      "+----------+--------------------+\n",
      "|       0.0|(14,[0,1,2,3,6,7,...|\n",
      "|       0.0|(14,[0,1,2,3,6,7,...|\n",
      "|       0.0|(14,[0,1,2,3,6,7,...|\n",
      "|       0.0|(14,[0,1,2,3,6,7,...|\n",
      "|       0.0|(14,[0,1,2,3,6,7,...|\n",
      "+----------+--------------------+\n",
      "only showing top 5 rows\n",
      "\n",
      "+----------+--------------------+\n",
      "|labelIndex|            features|\n",
      "+----------+--------------------+\n",
      "|       0.0|(14,[0,1,2,3,6,7,...|\n",
      "|       0.0|(14,[0,1,2,3,6,7,...|\n",
      "|       0.0|(14,[0,1,2,3,6,7,...|\n",
      "|       0.0|(14,[0,1,2,3,6,7,...|\n",
      "|       0.0|(14,[0,1,2,3,6,7,...|\n",
      "+----------+--------------------+\n",
      "only showing top 5 rows\n",
      "\n"
     ]
    }
   ],
   "source": [
    "from pyspark.ml.linalg import Vectors # import vectors \n",
    "from pyspark.ml.feature import VectorAssembler # import the vectorassembler\n",
    "\n",
    "features_list = [] #new list to store the feature\n",
    "for name in double_weather_df.columns:\n",
    "    if name != 'labelIndex': # apart label index \n",
    "        features_list.append(name)\n",
    "vector_assembler = VectorAssembler(inputCols=features_list,outputCol=\"features\") #transform features \n",
    "df_temp = vector_assembler.transform(double_weather_df)\n",
    "for name in features_list:\n",
    "    df_temp = df_temp.drop(name) # after transform, drop the privous column\n",
    "df_temp.show(15)\n",
    "\n",
    "(trainingData, testData) = df_temp.randomSplit([0.7, 0.3]) # seperate the trainning and testting data in to 70% and 30%\n",
    "trainingData.show(5)\n",
    "testData.show(5)"
   ]
  },
  {
   "cell_type": "markdown",
   "metadata": {},
   "source": [
    "## C. Apply Machine Learning Algorithms"
   ]
  },
  {
   "cell_type": "markdown",
   "metadata": {},
   "source": [
    "### Step 08: Apply machine learning classification algorithms on the dataset and compare their accuracy. Plot the accuracy as bar graph."
   ]
  },
  {
   "cell_type": "code",
   "execution_count": 9,
   "metadata": {},
   "outputs": [
    {
     "name": "stdout",
     "output_type": "stream",
     "text": [
      "+----------+----------+\n",
      "|prediction|labelIndex|\n",
      "+----------+----------+\n",
      "|       0.0|       0.0|\n",
      "|       0.0|       0.0|\n",
      "|       0.0|       0.0|\n",
      "|       0.0|       0.0|\n",
      "|       0.0|       0.0|\n",
      "|       0.0|       0.0|\n",
      "|       0.0|       0.0|\n",
      "|       0.0|       0.0|\n",
      "|       0.0|       0.0|\n",
      "|       0.0|       0.0|\n",
      "+----------+----------+\n",
      "only showing top 10 rows\n",
      "\n",
      "Test Accuracy of Decision Tree is:  0.8335561967766908\n"
     ]
    }
   ],
   "source": [
    "# Decision Tree\n",
    "from pyspark.ml.classification import DecisionTreeClassifier # import descision tree classifier\n",
    "from pyspark.mllib.evaluation import MulticlassMetrics\n",
    "from pyspark.ml.evaluation import MulticlassClassificationEvaluator # classfication evaluator\n",
    "\n",
    "dt = DecisionTreeClassifier(labelCol=\"labelIndex\", featuresCol=\"features\") \n",
    "model = dt.fit(trainingData) # training the data use decision tree\n",
    "\n",
    "predictions = model.transform(testData) # test the data\n",
    "\n",
    "predictions.select(\"prediction\", \"labelIndex\").show(10) # show top five \n",
    "decision_tree_df = predictions.select(\"prediction\", \"labelIndex\") # get the dataframe of prediction and label pair\n",
    "evaluator = MulticlassClassificationEvaluator(\\\n",
    "\n",
    "labelCol=\"labelIndex\", predictionCol=\"prediction\",\\\n",
    "\n",
    "metricName=\"accuracy\") # get the evaluater\n",
    "accuracy_decision_tree = evaluator.evaluate(predictions) # get the accuracy\n",
    "decision_tree_rdd = decision_tree_df.rdd # transform the dataframe to rdd for MulticlassMetrics analysis \n",
    "metrics_decision_tree = MulticlassMetrics(decision_tree_rdd) # tet the multiclassmertrics of decision tree\n",
    "print(\"Test Accuracy of Decision Tree is:  \" + str(accuracy_decision_tree ))"
   ]
  },
  {
   "cell_type": "code",
   "execution_count": 10,
   "metadata": {},
   "outputs": [
    {
     "name": "stdout",
     "output_type": "stream",
     "text": [
      "+----------+----------+\n",
      "|prediction|labelIndex|\n",
      "+----------+----------+\n",
      "|       0.0|       0.0|\n",
      "|       0.0|       0.0|\n",
      "|       0.0|       0.0|\n",
      "|       0.0|       0.0|\n",
      "|       0.0|       0.0|\n",
      "+----------+----------+\n",
      "only showing top 5 rows\n",
      "\n",
      "Test Accuracy of Random Rainforest is  0.8279025031083586\n"
     ]
    }
   ],
   "source": [
    "# RandomForest\n",
    "from pyspark.ml.classification import RandomForestClassifier # import randomforest\n",
    "from pyspark.mllib.evaluation import MulticlassMetrics\n",
    "rf = RandomForestClassifier(labelCol=\"labelIndex\",\\\n",
    "featuresCol=\"features\", numTrees=10)\n",
    "\n",
    "model = rf.fit(trainingData) #build the model \n",
    "\n",
    "predictions = model.transform(testData) # test the data \n",
    "random_forest_df = predictions.select(\"prediction\", \"labelIndex\") # get the dataframe of prediction and label pair\n",
    "predictions.select(\"prediction\", \"labelIndex\").show(5)\n",
    "\n",
    "evaluator =\\\n",
    "MulticlassClassificationEvaluator(labelCol=\"labelIndex\",\\\n",
    "predictionCol=\"prediction\", metricName=\"accuracy\")\n",
    "\n",
    "accuracy_randomforest = evaluator.evaluate(predictions) # get the accuracy\n",
    "\n",
    "random_forest_rdd = random_forest_df.rdd # transform the dataframe to rdd for MulticlassMetrics analysis \n",
    "metrics_random_forest = MulticlassMetrics(decision_tree_rdd) # tet the multiclassmertrics of decision tree\n",
    "\n",
    "print(\"Test Accuracy of Random Rainforest is  \" + str(accuracy_randomforest))"
   ]
  },
  {
   "cell_type": "code",
   "execution_count": 11,
   "metadata": {},
   "outputs": [
    {
     "name": "stdout",
     "output_type": "stream",
     "text": [
      "+----------+----------+\n",
      "|prediction|labelIndex|\n",
      "+----------+----------+\n",
      "|       0.0|       0.0|\n",
      "|       0.0|       0.0|\n",
      "|       0.0|       0.0|\n",
      "|       0.0|       0.0|\n",
      "|       0.0|       0.0|\n",
      "+----------+----------+\n",
      "only showing top 5 rows\n",
      "\n",
      "Test Accuracy of Logistic Regression is  0.8146479930560443\n"
     ]
    }
   ],
   "source": [
    "#Logistic Regression\n",
    "from pyspark.ml.classification import LogisticRegression # import logistic regression\n",
    "from pyspark.mllib.evaluation import MulticlassMetrics\n",
    "lr = LogisticRegression(labelCol=\"labelIndex\", featuresCol=\"features\",    maxIter=10)\n",
    "lrModel = lr.fit(trainingData)\n",
    "predictions = lrModel.transform(testData)\n",
    "predictions.select(\"prediction\", \"labelIndex\").show(5)\n",
    "logistic_regression_df = predictions.select(\"prediction\", \"labelIndex\") # get the dataframe of prediction and label pair\n",
    "evaluator =\\\n",
    "MulticlassClassificationEvaluator(labelCol=\"labelIndex\",\\\n",
    "predictionCol=\"prediction\", metricName=\"accuracy\")\n",
    "\n",
    "accuracy_lr = evaluator.evaluate(predictions) # get the accuracy\n",
    "logistic_regression_rdd = logistic_regression_df.rdd # transform the dataframe to rdd for MulticlassMetrics analysis \n",
    "metrics_logistic_regression = MulticlassMetrics(logistic_regression_rdd) # tet the multiclassmertrics of decision tree\n",
    "print(\"Test Accuracy of Logistic Regression is  \" + str(accuracy_lr))"
   ]
  },
  {
   "cell_type": "code",
   "execution_count": 12,
   "metadata": {},
   "outputs": [
    {
     "name": "stdout",
     "output_type": "stream",
     "text": [
      "+----------+----------+\n",
      "|prediction|labelIndex|\n",
      "+----------+----------+\n",
      "|       0.0|       0.0|\n",
      "|       0.0|       0.0|\n",
      "|       0.0|       0.0|\n",
      "|       0.0|       0.0|\n",
      "|       0.0|       0.0|\n",
      "+----------+----------+\n",
      "only showing top 5 rows\n",
      "\n",
      "Test Accuracy of Gradient-Boosted Tree Classifier is  0.8398198325005278\n"
     ]
    }
   ],
   "source": [
    "# GBT \n",
    "from pyspark.ml.classification import GBTClassifier\n",
    "from pyspark.mllib.evaluation import MulticlassMetrics\n",
    "gbt = GBTClassifier(labelCol=\"labelIndex\", featuresCol=\"features\",maxIter=10)\n",
    "gbtModel = gbt.fit(trainingData) # training the model \n",
    "predictions = gbtModel.transform(testData) #test the model\n",
    "predictions.select(\"prediction\", \"labelIndex\").show(5) \n",
    "gbt_df = predictions.select(\"prediction\", \"labelIndex\") # get the dataframe of prediction and label pair\n",
    "evaluator =\\\n",
    "MulticlassClassificationEvaluator(labelCol=\"labelIndex\",\\\n",
    "predictionCol=\"prediction\", metricName=\"accuracy\")\n",
    "accuracy_gbt = evaluator.evaluate(predictions)\n",
    "gbt_rdd = gbt_df.rdd # transform the dataframe to rdd for MulticlassMetrics analysis \n",
    "metrics_gbt = MulticlassMetrics(gbt_rdd) # tet the multiclassmertrics of decision tree\n",
    "print(\"Test Accuracy of Gradient-Boosted Tree Classifier is  \" + str(accuracy_gbt))"
   ]
  },
  {
   "cell_type": "code",
   "execution_count": 13,
   "metadata": {
    "scrolled": true
   },
   "outputs": [
    {
     "data": {
      "image/png": "[encoded data removed]",
      "text/plain": [
       "<Figure size 1080x720 with 1 Axes>"
      ]
     },
     "metadata": {
      "needs_background": "light"
     },
     "output_type": "display_data"
    }
   ],
   "source": [
    "# scrum book\n",
    "# prepare data\n",
    "# !pip install matplotlib\n",
    "import matplotlib.pyplot as plt\n",
    "import numpy as np\n",
    "%matplotlib inline\n",
    "\n",
    "accuracy_y = [accuracy_decision_tree, accuracy_randomforest, accuracy_lr, accuracy_gbt] # build the list of accuray\n",
    "al_name_x = ['Decision Tree', 'Random Forest', 'LogisticRegression','GBT'] # build the x axis labels\n",
    "bar_width = 0.5 # band wideth of the bar\n",
    "# plot\n",
    "plt.rcParams['figure.figsize'] = (15.0, 10.0) # figure size\n",
    "plt.bar(al_name_x,accuracy_y, bar_width, align='center', color='C0')\n",
    "for x, y in zip(al_name_x, accuracy_y ):\n",
    "        plt.text(x, y, str(y), ha='center', va='bottom', fontsize=13) # name the bar label\n",
    "plt.xlabel('Name of Four Algorithm') # x axis name \n",
    "plt.xticks(rotation=60) # rotation\n",
    "plt.ylabel('Accuracy of Each Algorithm') # y axis name \n",
    "plt.title('Comparing the accuracy of Decision Tree, Random Forest, Logistic Regression, GBT accuray on Australian weather prediction')\n",
    "plt.tight_layout()\n",
    "plt.show() # show the plot "
   ]
  },
  {
   "cell_type": "markdown",
   "metadata": {},
   "source": [
    "### Step 09: Calculate the confusion matrix and find the precision, recall, and F1 score of each classification algorithm. Explain how the accuracy of the predication can be improved?"
   ]
  },
  {
   "cell_type": "markdown",
   "metadata": {},
   "source": [
    "#### Precision"
   ]
  },
  {
   "cell_type": "code",
   "execution_count": 14,
   "metadata": {},
   "outputs": [
    {
     "data": {
      "image/png": "[encoded data removed]",
      "text/plain": [
       "<Figure size 1080x720 with 1 Axes>"
      ]
     },
     "metadata": {
      "needs_background": "light"
     },
     "output_type": "display_data"
    }
   ],
   "source": [
    "#From Step 08, I get four MulticlassMetrics object, by input the a pair (prediction and label) rdd pair.\n",
    "#In this section, I will compare the precision between these four algorithm\n",
    "import matplotlib.pyplot as plt\n",
    "import numpy as np\n",
    "%matplotlib inline\n",
    "precision_decision_tree = metrics_decision_tree.precision(1.0) #1.0 represent Rain Tomorrow Yes, from v2.0, paramater label\n",
    "precision_random_forest = metrics_random_forest.precision(1.0)\n",
    "precision_logistic_regression = metrics_logistic_regression.precision(1.0)\n",
    "precision_gbt = metrics_gbt.precision(1.0)\n",
    "\n",
    "\n",
    "accuracy_y = [precision_decision_tree, precision_random_forest, precision_logistic_regression, precision_gbt] # build the list of precision\n",
    "al_name_x = ['Decision Tree', 'Random Forest', 'LogisticRegression','GBT'] # build the x axis labels\n",
    "bar_width = 0.5 # band wideth of the bar\n",
    "# plot\n",
    "plt.rcParams['figure.figsize'] = (15.0, 10.0) # figure size\n",
    "plt.bar(al_name_x,accuracy_y, bar_width, align='center', color='C0')\n",
    "for x, y in zip(al_name_x, accuracy_y ):\n",
    "        plt.text(x, y, str(y), ha='center', va='bottom', fontsize=13) # name the bar label\n",
    "plt.xlabel('Name of Four Algorithm') # x axis name \n",
    "plt.xticks(rotation=60) # rotation\n",
    "plt.ylabel('Precision of Each Algorithm') # y axis name \n",
    "plt.title('Comparing the precision of Decision Tree, Random Forest, Logistic Regression, GBT on Australian weather prediction')\n",
    "plt.tight_layout()\n",
    "plt.show() # show the plot "
   ]
  },
  {
   "cell_type": "markdown",
   "metadata": {},
   "source": [
    "#### Recall"
   ]
  },
  {
   "cell_type": "code",
   "execution_count": 15,
   "metadata": {},
   "outputs": [
    {
     "data": {
      "image/png": "[encoded data removed]",
      "text/plain": [
       "<Figure size 1080x720 with 1 Axes>"
      ]
     },
     "metadata": {
      "needs_background": "light"
     },
     "output_type": "display_data"
    },
    {
     "name": "stdout",
     "output_type": "stream",
     "text": [
      "The recall of Decision Tree is: 0.40838460736260296\n",
      "The recall of Random Forest is: 0.40838460736260296\n",
      "The recall of Logistic Regression is: 0.4180832203566587\n",
      "The recall of GBT is: 0.45729481697778707\n"
     ]
    }
   ],
   "source": [
    "import matplotlib.pyplot as plt\n",
    "import numpy as np\n",
    "%matplotlib inline\n",
    "recall_decision_tree = metrics_decision_tree.recall(1.0) # 1.0 also represent Rain Tomorrow Yes\n",
    "recall_random_forest = metrics_random_forest.recall(1.0)\n",
    "recall_logistic_regression = metrics_logistic_regression.recall(1.0)\n",
    "recall_gbt = metrics_gbt.recall(1.0)\n",
    "\n",
    "accuracy_y = [recall_decision_tree, recall_random_forest, recall_logistic_regression, recall_gbt] # build the list of recall\n",
    "al_name_x = ['Decision Tree', 'Random Forest', 'LogisticRegression','GBT'] # build the x axis labels\n",
    "bar_width = 0.5 # band wideth of the bar\n",
    "# plot\n",
    "plt.rcParams['figure.figsize'] = (15.0, 10.0) # figure size\n",
    "plt.bar(al_name_x,accuracy_y, bar_width, align='center', color='C0')\n",
    "for x, y in zip(al_name_x, accuracy_y ):\n",
    "        plt.text(x, y, str(y), ha='center', va='bottom', fontsize=13) # name the bar label\n",
    "plt.xlabel('Name of Four Algorithm') # x axis name \n",
    "plt.xticks(rotation=60) # rotation\n",
    "plt.ylabel('Precision of Each Algorithm') # y axis name \n",
    "plt.title('Comparing the recall of Decision Tree, Random Forest, Logistic Regression, GBT  on Australian weather prediction')\n",
    "plt.tight_layout()\n",
    "plt.show() # show the plot \n",
    "print(\"The recall of Decision Tree is: \" + str(recall_decision_tree))\n",
    "print(\"The recall of Random Forest is: \" + str(recall_random_forest))\n",
    "print(\"The recall of Logistic Regression is: \" + str(recall_logistic_regression))\n",
    "print(\"The recall of GBT is: \" + str(recall_gbt))\n"
   ]
  },
  {
   "cell_type": "markdown",
   "metadata": {},
   "source": [
    "####  F1 score"
   ]
  },
  {
   "cell_type": "code",
   "execution_count": 16,
   "metadata": {},
   "outputs": [
    {
     "data": {
      "image/png": "[encoded data removed]",
      "text/plain": [
       "<Figure size 1080x720 with 1 Axes>"
      ]
     },
     "metadata": {
      "needs_background": "light"
     },
     "output_type": "display_data"
    },
    {
     "name": "stdout",
     "output_type": "stream",
     "text": [
      "The recall of Decision Tree is: 0.524686809137804\n",
      "The recall of Random Forest is: 0.524686809137804\n",
      "The recall of Logistic Regression is: 0.5036748539481123\n",
      "The recall of GBT is: 0.5622515707141942\n"
     ]
    }
   ],
   "source": [
    "import matplotlib.pyplot as plt\n",
    "import numpy as np\n",
    "%matplotlib inline\n",
    "f1_decision_tree = metrics_decision_tree.fMeasure(1.0) #1.0 represent Tomorrow Yes\n",
    "f1_random_forest = metrics_random_forest.fMeasure(1.0)\n",
    "f1_logistic_regression = metrics_logistic_regression.fMeasure(1.0)\n",
    "f1_gbt = metrics_gbt.fMeasure(1.0)\n",
    "\n",
    "accuracy_y = [f1_decision_tree, f1_random_forest, f1_logistic_regression, f1_gbt] # build the list of recall\n",
    "al_name_x = ['Decision Tree', 'Random Forest', 'LogisticRegression','GBT'] # build the x axis labels\n",
    "bar_width = 0.5 # band wideth of the bar\n",
    "# plot\n",
    "plt.rcParams['figure.figsize'] = (15.0, 10.0) # figure size\n",
    "plt.bar(al_name_x,accuracy_y, bar_width, align='center', color='C0')\n",
    "for x, y in zip(al_name_x, accuracy_y ):\n",
    "        plt.text(x, y, str(y), ha='center', va='bottom', fontsize=13) # name the bar label\n",
    "plt.xlabel('Name of Four Algorithm') # x axis name \n",
    "plt.xticks(rotation=60) # rotation\n",
    "plt.ylabel('Precision of Each Algorithm') # y axis name \n",
    "plt.title('Comparing the F1 Score of Decision Tree, Random Forest, Logistic Regression, GBT  on Australian weather prediction')\n",
    "plt.tight_layout()\n",
    "plt.show() # show the plot \n",
    "print(\"The recall of Decision Tree is: \" + str(f1_decision_tree))\n",
    "print(\"The recall of Random Forest is: \" + str(f1_random_forest))\n",
    "print(\"The recall of Logistic Regression is: \" + str(f1_logistic_regression))\n",
    "print(\"The recall of GBT is: \" + str(f1_gbt))"
   ]
  },
  {
   "cell_type": "markdown",
   "metadata": {},
   "source": [
    "#### Get Proof From Confusion Matrix"
   ]
  },
  {
   "cell_type": "code",
   "execution_count": 17,
   "metadata": {},
   "outputs": [
    {
     "name": "stdout",
     "output_type": "stream",
     "text": [
      "The structures of confusion matrixs are presented below:\n",
      "[[31616.  1422.]\n",
      " [ 5673.  3916.]]\n",
      "[[31616.  1422.]\n",
      " [ 5673.  3916.]]\n",
      "[[30717.  2321.]\n",
      " [ 5580.  4009.]]\n",
      "[[31414.  1624.]\n",
      " [ 5204.  4385.]]\n",
      "The precision of Decision Tree is: 0.7336080929186961\n",
      "The precision of Random Forest is: 0.7336080929186961\n",
      "The precision of Logistic Regression is: 0.6333333333333333\n",
      "The precision of GBT is: 0.7297387252454651\n",
      "The recall of Decision Tree is: 0.40838460736260296\n",
      "The recall of Random Forest is: 0.40838460736260296\n",
      "The recall of Logistic Regression is: 0.4180832203566587\n",
      "The recall of GBT is: 0.45729481697778707\n"
     ]
    }
   ],
   "source": [
    "# This part is conclulate by hand, and to get proof whether the above results are right\n",
    "confusionMatrix_decision_tree = metrics_decision_tree.confusionMatrix().toArray() # transfer the confusionMatrix to array\n",
    "confusionMatrix_random_forest = metrics_random_forest.confusionMatrix().toArray() \n",
    "confusionMatrix_logistic_regression = metrics_logistic_regression.confusionMatrix().toArray() \n",
    "confusionMatrix_gbt = metrics_gbt.confusionMatrix().toArray() \n",
    "print(\"The structures of confusion matrixs are presented below:\")\n",
    "print(confusionMatrix_decision_tree)\n",
    "print(confusionMatrix_random_forest)\n",
    "print(confusionMatrix_logistic_regression)\n",
    "print(confusionMatrix_gbt)\n",
    "# calculate the precsion \n",
    "precision_decision_tree = confusionMatrix_decision_tree[1][1]\\\n",
    "/ (confusionMatrix_decision_tree[0][1] + confusionMatrix_decision_tree[1][1])\n",
    "print(\"The precision of Decision Tree is: \" + str(precision_decision_tree))\n",
    "precision_random_forest = confusionMatrix_random_forest[1][1]\\\n",
    "/ (confusionMatrix_random_forest[0][1] + confusionMatrix_random_forest[1][1])\n",
    "print(\"The precision of Random Forest is: \" + str(precision_random_forest))\n",
    "precision_logistic_regression = confusionMatrix_logistic_regression[1][1]\\\n",
    "/ (confusionMatrix_logistic_regression[0][1] + confusionMatrix_logistic_regression[1][1])\n",
    "print(\"The precision of Logistic Regression is: \" + str(precision_logistic_regression))\n",
    "precision_gbt = confusionMatrix_gbt[1][1]\\\n",
    "/ (confusionMatrix_gbt[0][1] + confusionMatrix_gbt[1][1])\n",
    "print(\"The precision of GBT is: \" + str(precision_gbt))\n",
    "# calculat recall\n",
    "recall_decision_tree = confusionMatrix_decision_tree[1][1]\\\n",
    "/ (confusionMatrix_decision_tree[1][0] + confusionMatrix_decision_tree[1][1])\n",
    "print(\"The recall of Decision Tree is: \" + str(recall_decision_tree))\n",
    "recall_random_forest = confusionMatrix_random_forest[1][1]\\\n",
    "/ (confusionMatrix_random_forest[1][0] + confusionMatrix_random_forest[1][1])\n",
    "print(\"The recall of Random Forest is: \" + str(recall_random_forest))\n",
    "recall_logistic_regression = confusionMatrix_logistic_regression[1][1]\\\n",
    "/ (confusionMatrix_logistic_regression[1][0] + confusionMatrix_logistic_regression[1][1])\n",
    "print(\"The recall of Logistic Regression is: \" + str(recall_logistic_regression))\n",
    "recall_gbt = confusionMatrix_gbt[1][1]\\\n",
    "/ (confusionMatrix_gbt[1][0] + confusionMatrix_gbt[1][1])\n",
    "print(\"The recall of GBT is: \" + str(recall_gbt))"
   ]
  },
  {
   "cell_type": "markdown",
   "metadata": {},
   "source": [
    "####  The Ways To Improve Accuracy of Prediction"
   ]
  },
  {
   "cell_type": "markdown",
   "metadata": {},
   "source": [
    "1. Hyperparameters in machine learning are \"sets\" of user-controlled ML models. They affect how the model's parameters are updated and learned during training. Finding the best hyperparameters is usually done by hand. This is a simple attempt and a wrong task, with some intelligent guesswork. Therefore, to improve the accuracy of prediction of this project, I can try as many hyperparameter settings as possible and see which setting has the best results. For example, I should try Humidity 9am and 3pm as hyperparameters, becuase based on my experience, humidity is related to rain in a high degree. If it does not work, I can try to find new hyperparameters.\n",
    "\n",
    "2. Ensembling is an ML technology that combines the predictions of multiple models together. The idea is that the combined knowledge of these models will provide more accurate end results than the knowledge of any single model. To build an ensemble,I need to train multiple different ML models on the same data for the same task. In reasoning, I will apply all the models to the input separately. Because the task is classified, I can combine the results using a simple class vote scheme or predict with the highest confidence. Therefore, I can training more models use other algorithm other than this four.\n",
    "\n",
    "3. Feature engineering involves careful selection and possible manipulation of data characteristics. The goal is to provide the optimal input form for your model. Based on this rule, when selecting features, I may drop the wind direction data and have a try, whether in the way can improve the accuracy of prediction."
   ]
  }
 ],
 "metadata": {
  "kernelspec": {
   "display_name": "Python 3",
   "language": "python",
   "name": "python3"
  },
  "language_info": {
   "codemirror_mode": {
    "name": "ipython",
    "version": 3
   },
   "file_extension": ".py",
   "mimetype": "text/x-python",
   "name": "python",
   "nbconvert_exporter": "python",
   "pygments_lexer": "ipython3",
   "version": "3.7.3"
  }
 },
 "nbformat": 4,
 "nbformat_minor": 2
}
